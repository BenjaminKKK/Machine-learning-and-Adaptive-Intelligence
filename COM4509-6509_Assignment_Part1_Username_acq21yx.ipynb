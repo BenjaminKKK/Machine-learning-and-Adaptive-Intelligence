{
 "cells": [
  {
   "cell_type": "markdown",
   "metadata": {},
   "source": [
    "# Assignment Part 1 Brief \n",
    "\n",
    "## Deadline: Friday, December 3, 2021 at 15:00 hrs\n",
    "\n",
    "## Number of marks available for Part 1: 25\n",
    "\n",
    "## Scope: Sessions 1 to 5\n",
    "\n",
    "### Please READ the whole assignment first, before starting to work on it.\n",
    "\n",
    "### How and what to submit\n",
    "\n",
    "A. A **Jupyter Notebook** with the code in all the cells executed and outputs displayed.\n",
    "\n",
    "B. Name your Notebook **COM4509-6509_Assignment_Part1_Username_XXXXXX.ipynb** where XXXXXX is your username such as such as abc18de.  \n",
    "\n",
    "C. Upload a .zip file to Blackboard before the deadline that contains the Jupyter Notebook in B and any other files requested for the solution of Part 2 of the Assignment (Dr Lu will be in charge of releasing this part). \n",
    "\n",
    "D. **NO DATA UPLOAD**: Please do not upload the data files used in this Notebook. We have a copy already. \n",
    "\n",
    "\n",
    "### Assessment Criteria \n",
    "\n",
    "* Being able to use numpy and pandas to preprocess a dataset.\n",
    "\n",
    "* Being able to use numpy to build a machine learning pipeline for supervised learning. \n",
    "\n",
    "* Being able to follow the steps involved in an end-to-end project in machine learning.\n",
    "\n",
    "* Being able to use scikit-learn to design a machine learning model pipeline\n",
    "\n",
    "\n",
    "### Late submissions\n",
    "\n",
    "We follow Department's guidelines about late submissions, i.e., a deduction of 5% of the mark each working day the work is late after the deadline. NO late submission will be marked one week after the deadline because we will release a solution by then. Please read [this link](https://sites.google.com/sheffield.ac.uk/comughandbook/general-information/assessment/late-submission) if you are taking COM4509 or read [this link](https://sites.google.com/sheffield.ac.uk/compgtstudenthandbook/menu/assessment/late-submission) if you are taking COM6509. \n",
    "\n",
    "### Use of unfair means \n",
    "\n",
    "**\"Any form of unfair means is treated as a serious academic offence and action may be taken under the Discipline Regulations.\"** (from the students Handbook). Please carefully read [this link](https://sites.google.com/sheffield.ac.uk/comughandbook/general-information/assessment/unfair-means) on what constitutes Unfair Means if not sure, for COM4509. If you are taking COM6509, please read [this link](https://sites.google.com/sheffield.ac.uk/compgtstudenthandbook/menu/referencing-unfair-means) if you are not sure what is Unfair means. If you still have questions, please ask your Personal tutor or the Lecturers. "
   ]
  },
  {
   "cell_type": "markdown",
   "metadata": {},
   "source": [
    "# A dataset of air quality\n",
    "\n",
    "The dataset you will use in this assignment comes from a popular machine learning repository that hosts open source datasets for educational and research purposes, the [UCI Machine Learning Repository](https://archive.ics.uci.edu/ml/index.php). We are going to use regularised ridge regression and random forests for predicting air quality. The description of the dataset can be found [here](https://archive.ics.uci.edu/ml/datasets/Air+Quality)."
   ]
  },
  {
   "cell_type": "code",
   "execution_count": 4,
   "metadata": {},
   "outputs": [
    {
     "data": {
      "text/plain": [
       "('./AirQualityUCI.zip', <http.client.HTTPMessage at 0x7fc2198a5160>)"
      ]
     },
     "execution_count": 4,
     "metadata": {},
     "output_type": "execute_result"
    }
   ],
   "source": [
    "import urllib.request\n",
    "doq = \"https://archive.ics.uci.edu/ml/machine-learning-databases/00360/AirQualityUCI.zip\"\n",
    "pat_sav = \"./AirQualityUCI.zip\"\n",
    "urllib.request.urlretrieve(doq, pat_sav)\n",
    "#urllib.request.urlretrieve(\"https://archive.ics.uci.edu/ml/machine-learning-databases/00360/AirQualityUCI.zip\")"
   ]
  },
  {
   "cell_type": "code",
   "execution_count": 5,
   "metadata": {},
   "outputs": [],
   "source": [
    "import zipfile\n",
    "zip = zipfile.ZipFile('./AirQualityUCI.zip', 'r')\n",
    "for name in zip.namelist():\n",
    "    zip.extract(name, '.')"
   ]
  },
  {
   "cell_type": "code",
   "execution_count": 6,
   "metadata": {},
   "outputs": [],
   "source": [
    "# The .csv version of the file has some typing issues, so we use the excel version\n",
    "import pandas as pd \n",
    "air_quality_full = pd.read_excel('./AirQualityUCI.xlsx', usecols=range(2,15))"
   ]
  },
  {
   "cell_type": "markdown",
   "metadata": {},
   "source": [
    "We can see some of the rows in the dataset "
   ]
  },
  {
   "cell_type": "code",
   "execution_count": 7,
   "metadata": {},
   "outputs": [
    {
     "data": {
      "text/html": [
       "<div>\n",
       "<style scoped>\n",
       "    .dataframe tbody tr th:only-of-type {\n",
       "        vertical-align: middle;\n",
       "    }\n",
       "\n",
       "    .dataframe tbody tr th {\n",
       "        vertical-align: top;\n",
       "    }\n",
       "\n",
       "    .dataframe thead th {\n",
       "        text-align: right;\n",
       "    }\n",
       "</style>\n",
       "<table border=\"1\" class=\"dataframe\">\n",
       "  <thead>\n",
       "    <tr style=\"text-align: right;\">\n",
       "      <th></th>\n",
       "      <th>CO(GT)</th>\n",
       "      <th>PT08.S1(CO)</th>\n",
       "      <th>NMHC(GT)</th>\n",
       "      <th>C6H6(GT)</th>\n",
       "      <th>PT08.S2(NMHC)</th>\n",
       "      <th>NOx(GT)</th>\n",
       "      <th>PT08.S3(NOx)</th>\n",
       "      <th>NO2(GT)</th>\n",
       "      <th>PT08.S4(NO2)</th>\n",
       "      <th>PT08.S5(O3)</th>\n",
       "      <th>T</th>\n",
       "      <th>RH</th>\n",
       "      <th>AH</th>\n",
       "    </tr>\n",
       "  </thead>\n",
       "  <tbody>\n",
       "    <tr>\n",
       "      <th>2181</th>\n",
       "      <td>1.8</td>\n",
       "      <td>1076.25</td>\n",
       "      <td>-200</td>\n",
       "      <td>10.921838</td>\n",
       "      <td>1011.5</td>\n",
       "      <td>113.0</td>\n",
       "      <td>893.50</td>\n",
       "      <td>116.0</td>\n",
       "      <td>1665.00</td>\n",
       "      <td>815.75</td>\n",
       "      <td>40.30</td>\n",
       "      <td>16.125000</td>\n",
       "      <td>1.189616</td>\n",
       "    </tr>\n",
       "    <tr>\n",
       "      <th>4524</th>\n",
       "      <td>-200.0</td>\n",
       "      <td>1047.75</td>\n",
       "      <td>-200</td>\n",
       "      <td>7.790382</td>\n",
       "      <td>890.5</td>\n",
       "      <td>-200.0</td>\n",
       "      <td>791.00</td>\n",
       "      <td>-200.0</td>\n",
       "      <td>1653.75</td>\n",
       "      <td>992.25</td>\n",
       "      <td>20.10</td>\n",
       "      <td>77.449999</td>\n",
       "      <td>1.802002</td>\n",
       "    </tr>\n",
       "    <tr>\n",
       "      <th>3833</th>\n",
       "      <td>-200.0</td>\n",
       "      <td>1021.75</td>\n",
       "      <td>-200</td>\n",
       "      <td>7.766393</td>\n",
       "      <td>889.5</td>\n",
       "      <td>-200.0</td>\n",
       "      <td>802.75</td>\n",
       "      <td>-200.0</td>\n",
       "      <td>1499.00</td>\n",
       "      <td>861.50</td>\n",
       "      <td>35.30</td>\n",
       "      <td>23.100000</td>\n",
       "      <td>1.298920</td>\n",
       "    </tr>\n",
       "    <tr>\n",
       "      <th>1436</th>\n",
       "      <td>-200.0</td>\n",
       "      <td>1035.00</td>\n",
       "      <td>-200</td>\n",
       "      <td>4.823872</td>\n",
       "      <td>754.5</td>\n",
       "      <td>-200.0</td>\n",
       "      <td>996.75</td>\n",
       "      <td>-200.0</td>\n",
       "      <td>1520.50</td>\n",
       "      <td>608.00</td>\n",
       "      <td>15.60</td>\n",
       "      <td>65.775001</td>\n",
       "      <td>1.157689</td>\n",
       "    </tr>\n",
       "    <tr>\n",
       "      <th>4667</th>\n",
       "      <td>0.6</td>\n",
       "      <td>868.75</td>\n",
       "      <td>-200</td>\n",
       "      <td>3.335032</td>\n",
       "      <td>672.5</td>\n",
       "      <td>102.0</td>\n",
       "      <td>1032.50</td>\n",
       "      <td>53.0</td>\n",
       "      <td>1307.25</td>\n",
       "      <td>688.25</td>\n",
       "      <td>18.85</td>\n",
       "      <td>63.025000</td>\n",
       "      <td>1.358170</td>\n",
       "    </tr>\n",
       "  </tbody>\n",
       "</table>\n",
       "</div>"
      ],
      "text/plain": [
       "      CO(GT)  PT08.S1(CO)  NMHC(GT)   C6H6(GT)  PT08.S2(NMHC)  NOx(GT)  \\\n",
       "2181     1.8      1076.25      -200  10.921838         1011.5    113.0   \n",
       "4524  -200.0      1047.75      -200   7.790382          890.5   -200.0   \n",
       "3833  -200.0      1021.75      -200   7.766393          889.5   -200.0   \n",
       "1436  -200.0      1035.00      -200   4.823872          754.5   -200.0   \n",
       "4667     0.6       868.75      -200   3.335032          672.5    102.0   \n",
       "\n",
       "      PT08.S3(NOx)  NO2(GT)  PT08.S4(NO2)  PT08.S5(O3)      T         RH  \\\n",
       "2181        893.50    116.0       1665.00       815.75  40.30  16.125000   \n",
       "4524        791.00   -200.0       1653.75       992.25  20.10  77.449999   \n",
       "3833        802.75   -200.0       1499.00       861.50  35.30  23.100000   \n",
       "1436        996.75   -200.0       1520.50       608.00  15.60  65.775001   \n",
       "4667       1032.50     53.0       1307.25       688.25  18.85  63.025000   \n",
       "\n",
       "            AH  \n",
       "2181  1.189616  \n",
       "4524  1.802002  \n",
       "3833  1.298920  \n",
       "1436  1.157689  \n",
       "4667  1.358170  "
      ]
     },
     "execution_count": 7,
     "metadata": {},
     "output_type": "execute_result"
    }
   ],
   "source": [
    "air_quality_full.sample(5)"
   ]
  },
  {
   "cell_type": "markdown",
   "metadata": {},
   "source": [
    "The target variable corresponds to the CO(GT) variable of the first column. The following columns correspond to the variables in the feature vectors, *e.g.*, PT08.S1(CO) is $x_1$ up until AH which is $x_D$. The original dataset also has a date and a time columns that we are not going to use in this assignment.\n",
    "\n",
    "### Removing instances \n",
    "\n",
    "The dataset has missing values tagged with a -200 value. To simplify the design of the machine learning models in this assignment, we perform the following two operations to the dataset right from the beginning:\n",
    "\n",
    "* we will remove the rows for which the target variable has missing values. We are doing supervised learning so we need all our data observations to have known target values.\n",
    "\n",
    "* we will remove features with more than 20% of missing values. \n",
    "\n",
    "The code below performs both operations"
   ]
  },
  {
   "cell_type": "code",
   "execution_count": 8,
   "metadata": {},
   "outputs": [],
   "source": [
    "# We first remove the rows for which there are missing values in the target feature\n",
    "air_quality = air_quality_full.loc[air_quality_full.iloc[:, 0]!=-200, :]"
   ]
  },
  {
   "cell_type": "code",
   "execution_count": 9,
   "metadata": {},
   "outputs": [],
   "source": [
    "# We now remove the columns (features) for which there are more that 20% of missing values\n",
    "import numpy as np\n",
    "ndata, ncols = np.shape(air_quality) # number of data observations and number of columns in the dataframe\n",
    "pmissing = np.empty(ncols)         # An empty vector that will keep the percentage of missing values per feature\n",
    "for i in range(ncols):\n",
    "    pmissing[i] = (air_quality.iloc[:, i]==-200).sum() / ndata # Computes the percentage of missing values per column\n",
    "air_quality = air_quality.loc[:, pmissing < 0.2]"
   ]
  },
  {
   "cell_type": "markdown",
   "metadata": {},
   "source": [
    "### Splitting the dataset \n",
    "\n",
    "Before designing any machine learning model, we need to set aside the test data. We will use the remaining training data for fitting the model. *It is important to remember that the test data has to be set aside before preprocessing*. \n",
    "\n",
    "Any preprocessing that you do has to be done only on the training data and several key statistics need to be saved for the test stage.  Separating the dataset into training and test before any preprocessing has happened help us to recreate the real world scenario where we will deploy our system and for which the data will come without any preprocessing.\n",
    "\n",
    "Furthermore, we are going to use *hold-out validation* for validating our predictive model so we need to further separate the training data into a training set and a validation set.\n",
    "\n",
    "We split the dataset into a training set, a validation set and a test set. The training set will have 70% of the total observations, the validation set 15% and the test set, the remaining 15%. For making the random selections of the training and validation sets **make sure that you use a random seed that corresponds to the last five digits of your student UCard**. In the code below, I have used 55555 as an example of my random seed."
   ]
  },
  {
   "cell_type": "code",
   "execution_count": 10,
   "metadata": {},
   "outputs": [],
   "source": [
    "np.random.seed(62900)                 # Make sure you use the last five digits of your student UCard as your seed\n",
    "index = np.random.permutation(ndata)  # We permute the indexes \n",
    "N = np.int64(np.round(0.70*ndata))    # We compute N, the number of training instances\n",
    "Nval = np.int64(np.round(0.15*ndata)) # We compute Nval, the number of validation instances   \n",
    "Ntest = ndata - N - Nval              # We compute Ntest, the number of test instances\n",
    "data_training_unproc = air_quality.iloc[index[0:N], :].copy() # Select the training data\n",
    "data_val_unproc = air_quality.iloc[index[N:N+Nval], :].copy() # Select the validation data\n",
    "data_test_unproc = air_quality.iloc[index[N+Nval:ndata], :].copy() # Select the test data"
   ]
  },
  {
   "cell_type": "code",
   "execution_count": 11,
   "metadata": {},
   "outputs": [
    {
     "data": {
      "text/html": [
       "<div>\n",
       "<style scoped>\n",
       "    .dataframe tbody tr th:only-of-type {\n",
       "        vertical-align: middle;\n",
       "    }\n",
       "\n",
       "    .dataframe tbody tr th {\n",
       "        vertical-align: top;\n",
       "    }\n",
       "\n",
       "    .dataframe thead th {\n",
       "        text-align: right;\n",
       "    }\n",
       "</style>\n",
       "<table border=\"1\" class=\"dataframe\">\n",
       "  <thead>\n",
       "    <tr style=\"text-align: right;\">\n",
       "      <th></th>\n",
       "      <th>CO(GT)</th>\n",
       "      <th>PT08.S1(CO)</th>\n",
       "      <th>C6H6(GT)</th>\n",
       "      <th>PT08.S2(NMHC)</th>\n",
       "      <th>NOx(GT)</th>\n",
       "      <th>PT08.S3(NOx)</th>\n",
       "      <th>NO2(GT)</th>\n",
       "      <th>PT08.S4(NO2)</th>\n",
       "      <th>PT08.S5(O3)</th>\n",
       "      <th>T</th>\n",
       "      <th>RH</th>\n",
       "      <th>AH</th>\n",
       "    </tr>\n",
       "  </thead>\n",
       "  <tbody>\n",
       "    <tr>\n",
       "      <th>6435</th>\n",
       "      <td>6.2</td>\n",
       "      <td>1420.75</td>\n",
       "      <td>20.853976</td>\n",
       "      <td>1320.00</td>\n",
       "      <td>739.0</td>\n",
       "      <td>496.25</td>\n",
       "      <td>134.0</td>\n",
       "      <td>1804.0</td>\n",
       "      <td>1555.50</td>\n",
       "      <td>14.575</td>\n",
       "      <td>75.200001</td>\n",
       "      <td>1.240541</td>\n",
       "    </tr>\n",
       "    <tr>\n",
       "      <th>4686</th>\n",
       "      <td>1.1</td>\n",
       "      <td>961.75</td>\n",
       "      <td>5.913371</td>\n",
       "      <td>807.75</td>\n",
       "      <td>99.0</td>\n",
       "      <td>866.25</td>\n",
       "      <td>74.0</td>\n",
       "      <td>1430.0</td>\n",
       "      <td>868.25</td>\n",
       "      <td>22.600</td>\n",
       "      <td>56.275000</td>\n",
       "      <td>1.523315</td>\n",
       "    </tr>\n",
       "    <tr>\n",
       "      <th>6701</th>\n",
       "      <td>2.1</td>\n",
       "      <td>-200.00</td>\n",
       "      <td>-200.000000</td>\n",
       "      <td>-200.00</td>\n",
       "      <td>365.0</td>\n",
       "      <td>-200.00</td>\n",
       "      <td>108.0</td>\n",
       "      <td>-200.0</td>\n",
       "      <td>-200.00</td>\n",
       "      <td>-200.000</td>\n",
       "      <td>-200.000000</td>\n",
       "      <td>-200.000000</td>\n",
       "    </tr>\n",
       "    <tr>\n",
       "      <th>5854</th>\n",
       "      <td>1.5</td>\n",
       "      <td>909.00</td>\n",
       "      <td>7.522327</td>\n",
       "      <td>879.25</td>\n",
       "      <td>-200.0</td>\n",
       "      <td>873.75</td>\n",
       "      <td>-200.0</td>\n",
       "      <td>1083.0</td>\n",
       "      <td>846.75</td>\n",
       "      <td>13.825</td>\n",
       "      <td>40.725000</td>\n",
       "      <td>0.640528</td>\n",
       "    </tr>\n",
       "    <tr>\n",
       "      <th>6062</th>\n",
       "      <td>4.5</td>\n",
       "      <td>1407.25</td>\n",
       "      <td>21.543636</td>\n",
       "      <td>1338.75</td>\n",
       "      <td>992.0</td>\n",
       "      <td>531.00</td>\n",
       "      <td>225.0</td>\n",
       "      <td>1584.0</td>\n",
       "      <td>1533.25</td>\n",
       "      <td>7.725</td>\n",
       "      <td>72.525002</td>\n",
       "      <td>0.766591</td>\n",
       "    </tr>\n",
       "  </tbody>\n",
       "</table>\n",
       "</div>"
      ],
      "text/plain": [
       "      CO(GT)  PT08.S1(CO)    C6H6(GT)  PT08.S2(NMHC)  NOx(GT)  PT08.S3(NOx)  \\\n",
       "6435     6.2      1420.75   20.853976        1320.00    739.0        496.25   \n",
       "4686     1.1       961.75    5.913371         807.75     99.0        866.25   \n",
       "6701     2.1      -200.00 -200.000000        -200.00    365.0       -200.00   \n",
       "5854     1.5       909.00    7.522327         879.25   -200.0        873.75   \n",
       "6062     4.5      1407.25   21.543636        1338.75    992.0        531.00   \n",
       "\n",
       "      NO2(GT)  PT08.S4(NO2)  PT08.S5(O3)        T          RH          AH  \n",
       "6435    134.0        1804.0      1555.50   14.575   75.200001    1.240541  \n",
       "4686     74.0        1430.0       868.25   22.600   56.275000    1.523315  \n",
       "6701    108.0        -200.0      -200.00 -200.000 -200.000000 -200.000000  \n",
       "5854   -200.0        1083.0       846.75   13.825   40.725000    0.640528  \n",
       "6062    225.0        1584.0      1533.25    7.725   72.525002    0.766591  "
      ]
     },
     "execution_count": 11,
     "metadata": {},
     "output_type": "execute_result"
    }
   ],
   "source": [
    "data_val_unproc.sample(5)"
   ]
  },
  {
   "cell_type": "markdown",
   "metadata": {},
   "source": [
    "The assigment is divided into two sections. In the **first section**, you will design a regularised ridge regression model trained with stochastic gradient descent. You will write all the code from scratch. You should not use any library that already implements any of the routines considered in this section, for example, scikit-learn. In the **second section**, you will design a random forests model and you are allowed to use scikit-learn in this section.\n",
    "\n",
    "When writing your code, you will find out that there are operations that are repeated at least twice. We will assign marks for use of Python functions and for commenting your code. The marks will be assigned as:\n",
    "\n",
    "* Did you include Python functions to solve the question and avoid repeating code? (**1 mark**)\n",
    "* Did you comment your code to make it readable to others? (**1 mark**)"
   ]
  },
  {
   "cell_type": "markdown",
   "metadata": {},
   "source": [
    "# 1. Using regularised ridge regression to predict air quality (10 marks)\n",
    "\n",
    "**DO NOT USE scikit-learn or any other machine learning library for the questions on this section. You are meant to write Python code from scratch. You can use Pandas and Numpy. Using scikit-learn or any other machine learning library for the questions in this section will give ZERO marks. No excuse will be accepted.**\n",
    "\n",
    "Regularisation is a technique commonly used in Machine Learning to prevent overfitting. It consists on adding terms to the objective function such that the optimisation procedure avoids solutions that just learn the training data. Popular techniques for regularisation in Supervised Learning include [Lasso Regression](https://en.wikipedia.org/wiki/Lasso_(statistics)), [Ridge Regression](https://en.wikipedia.org/wiki/Tikhonov_regularization) and the [Elastic Net](https://en.wikipedia.org/wiki/Elastic_net_regularization). \n",
    "\n",
    "In this part of the Assignment, you will be looking at Ridge Regression and implementing equations to optimise the objective function using the update rules for stochastic gradient descent. You will use those update rules for making predictions on the Air Quality dataset.\n",
    "\n",
    "## 1.1 Ridge Regression\n",
    "\n",
    "Let us start with a data set for training $\\mathcal{D} = \\{\\mathbf{y}, \\mathbf{X}\\}$, where the vector $\\mathbf{y}=[y_1, \\cdots, y_N]^{\\top}$ and $\\mathbf{X}$ is the design matrix from Lab 4, this is, \n",
    "\n",
    "\\begin{align*}\n",
    "    \\mathbf{X} = \n",
    "                \\begin{bmatrix}\n",
    "                        1 & x_{1,1} & \\cdots & x_{1, D}\\\\\n",
    "                        1 & x_{2,1} & \\cdots & x_{2, D}\\\\\n",
    "                   \\vdots &  \\vdots\\\\\n",
    "                        1 & x_{N,1} & \\cdots & x_{N, D}\n",
    "                \\end{bmatrix}\n",
    "               = \n",
    "               \\begin{bmatrix}\n",
    "                      \\mathbf{x}_1^{\\top}\\\\\n",
    "                       \\mathbf{x}_2^{\\top}\\\\\n",
    "                          \\vdots\\\\\n",
    "                        \\mathbf{x}_N^{\\top}\n",
    "                \\end{bmatrix}.\n",
    "\\end{align*}\n",
    "\n",
    "Our predictive model is going to be a linear model\n",
    "\n",
    "$$ f(\\mathbf{x}_i) = \\mathbf{w}^{\\top}\\mathbf{x}_i,$$\n",
    "\n",
    "where $\\mathbf{w} = [w_0\\; w_1\\; \\cdots \\; w_D]^{\\top}$.\n",
    "\n",
    "The **objective function** we are going to use has the following form\n",
    "\n",
    "$$ E(\\mathbf{w}, \\lambda) = \\frac{1}{N}\\sum_{n=1}^N (y_n - f(\\mathbf{x}_n))^2 + \\frac{\\lambda}{2}\\sum_{j=0}^D w_j^2,$$\n",
    "\n",
    "where $\\lambda>0$ is known as the *regularisation* parameter.\n",
    "\n",
    "This objective function was studied in Lecture 4. \n",
    "\n",
    "The first term on the rhs is what we call the \"fitting\" term whereas the second term in the expression is the regularisation term. Given $\\lambda$, the two terms in the expression have different purposes. The first term is looking for a value of $\\mathbf{w}$ that leads the squared-errors to zero. While doing this, $\\mathbf{w}$ can take any value and lead to a solution that it is only good for the training data but perhaps not for the test data. The second term is regularising the behavior of the first term by driving the $\\mathbf{w}$ towards zero. By doing this, it restricts the possible set of values that $\\mathbf{w}$ might take according to the first term. The value that we use for $\\lambda$ will allow a compromise between a value of $\\mathbf{w}$ that exactly fits the data (first term) or a value of $\\mathbf{w}$ that does not grow too much (second term).\n",
    "\n",
    "This type of regularisation has different names: ridge regression, Tikhonov regularisation or $\\ell_2$ norm regularisation. \n",
    "\n",
    "## 1.2 Optimising the objective function with respect to $\\mathbf{w}$\n",
    "\n",
    "There are two ways we can optimise the objective function with respect to $\\mathbf{w}$. The first one leads to a closed form expression for $\\mathbf{w}$ and the second one using an iterative optimisation procedure that updates the value of $\\mathbf{w}$ at each iteration by using the gradient of the objective function with respect to $\\mathbf{w}$,\n",
    "$$\n",
    "\\mathbf{w}_{\\text{new}} = \\mathbf{w}_{\\text{old}} - \\eta \\frac{d E(\\mathbf{w}, \\lambda)}{d\\mathbf{w}},\n",
    "$$\n",
    "where $\\eta$ is the *learning rate* parameter and $\\frac{d E(\\mathbf{w}, \\lambda)}{d\\mathbf{w}}$ is the gradient of the objective function.\n",
    "\n",
    "It can be shown (this is a question in the Exercise Sheet 4) that a closed-form expression for the optimal $\\mathbf{w}_*$ is given as\n",
    "\n",
    "\\begin{align*}            \n",
    "            \\mathbf{w}_*& = \\left(\\mathbf{X}^{\\top}\\mathbf{X} + \\frac{\\lambda N}   \n",
    "                                     {2}\\mathbf{I}\\right)^{-1}\\mathbf{X}^{\\top}\\mathbf{y}.\n",
    "\\end{align*}\n",
    "\n",
    "Alternatively, we can find an update equation for $\\mathbf{w}_{\\text{new}}$ using gradient descent leading to:\n",
    "\n",
    "\\begin{align*}\n",
    "   \\mathbf{w}_{\\text{new}} & = \\mathbf{w}_{\\text{old}} - \\eta \\frac{d E(\\mathbf{w}, \\lambda)}\n",
    "                              {d\\mathbf{w}},\\\\\n",
    "                           & = \\mathbf{w}_{\\text{old}} +  \\frac{2\\eta}{N}\\sum_{n=1}^N   \n",
    "                               \\left(y_n - \\mathbf{x}_n^{\\top}\\mathbf{w}_{\\text{old}}\\right)\\mathbf{x}_n  \n",
    "                       - \\eta\\lambda\\mathbf{w}_{\\text{old}}\\\\\n",
    "                           & = (1 - \\eta\\lambda)\\mathbf{w}_{\\text{old}} + \\frac{2\\eta}\n",
    "                               {N}\\sum_{n=1}^N   \n",
    "                               \\left(y_n - \\mathbf{x}_n^{\\top}\\mathbf{w}_{\\text{old}}\\right)\\mathbf{x}_n\n",
    "\\end{align*}"
   ]
  },
  {
   "cell_type": "markdown",
   "metadata": {},
   "source": [
    "## 1.3 Preprocessing the data\n",
    "\n",
    "As mentioned before, the dataset has missing values tagged with a -200 value. Before doing any work with the training data, we want to make sure that we deal properly with the missing values. Furthermore, once we have dealt with the missing values, we want to standardise the training data. \n",
    "\n",
    "### Question 1.a: Missing values and standardisation (2 marks)\n",
    "\n",
    "* For all the other features with missing values, use the mean value of the non-missing values for that feature to perform imputation. Save these mean values, you will need them when performing the validation stage (**1 mark**).\n",
    "\n",
    "* Once you have imputed the missing data, we need to standardise the input vectors. Standardise the training data by substracting the mean value for each feature and dividing the result by the standard deviation of each feature. Keep the mean values and standard deviations, you will need them at validation time (**1 mark**).\n",
    "\n",
    "#### Question 1.a Answer"
   ]
  },
  {
   "cell_type": "code",
   "execution_count": 12,
   "metadata": {},
   "outputs": [],
   "source": [
    "# Replace missing values by mean values\n",
    "ndata, ncols = np.shape(air_quality)\n",
    "mean_nonmiss_list = np.empty(ncols)  # to save the mean values of non_missing values\n",
    "for i in range(1, ncols):\n",
    "    mean_nonmiss_list[i] = np.mean(air_quality.iloc[(air_quality.iloc[:, i] != -200).tolist(), i])   # calculate and save the mean values\n",
    "\n",
    "# Function to impute missing data\n",
    "def Impute(Data):\n",
    "    for i in range(1, ncols):\n",
    "        Data.iloc[Data.iloc[:, i] == -200, i] = mean_nonmiss_list[i]  # replace the missing values by mean values\n",
    "    return Data\n",
    "\n",
    "data_training_unproc = Impute(data_training_unproc)\n",
    "\n",
    "# Standardise the training data\n",
    "mean_list = np.empty(ncols)  # to save the mean value of all values\n",
    "std_list = np.empty(ncols)   # to save the Standard Deviation of all values\n",
    "\n",
    "for i in range(1, ncols):\n",
    "    mean_list[i] = np.mean((air_quality.iloc[:, i]).tolist())  # calculate and save the mean\n",
    "    std_list[i] = np.std((air_quality.iloc[:, i]).tolist())    # calculate and save the standard deviation\n",
    "\n",
    "# Function to standardise data\n",
    "def Standardise(Data):\n",
    "    for i in range(1, ncols):\n",
    "        Data.iloc[:, i] -= mean_list[i]     # substracting the mean value\n",
    "        Data.iloc[:, i] /= std_list[i]      # dividing the result by the standard deviation\n",
    "    return Data\n",
    "\n",
    "data_training = Standardise(data_training_unproc)"
   ]
  },
  {
   "cell_type": "markdown",
   "metadata": {},
   "source": [
    "## 1.4 Training and validation stages\n",
    "\n",
    "We have now curated our training data by removing data observations and features with a large amount of missing values. We have also normalised the feature vectors. We are now in a good position to work on developing the prediction model and validating it. We will use gradient descent for iterative optimisation. \n",
    "\n",
    "We first organise the dataframe into the vector of targets $\\mathbf{y}$, call it `yTrain`, and the design matrix $\\mathbf{X}$, call it `XTrain`."
   ]
  },
  {
   "cell_type": "code",
   "execution_count": 13,
   "metadata": {},
   "outputs": [],
   "source": [
    "# Split the training data\n",
    "yTrain = np.array(data_training.iloc[:, 0].values).reshape(-1,1)\n",
    "XTrain = np.hstack((np.ones(shape=[5372,1]), np.array(data_training.iloc[:, 1:].values).reshape(-1,11)))"
   ]
  },
  {
   "cell_type": "markdown",
   "metadata": {},
   "source": [
    "### Question 1.b: finding the optimal $\\mathbf{w}$ with stochastic gradient descent (3 marks)\n",
    "\n",
    "Use gradient descent to iteratively compute the value of $\\mathbf{w}_{\\text{new}}$. Instead of using all the training set in `XTrain` and `yTrain` to compute the gradient, use a subset of $S$ instances in `XTrain` and `yTrain`. This is sometimes called *minibatch gradient descent* where $S$ is the size of the minibacth. When using gradient descent with minibatches, you need to find the best values for three parameters: $\\eta$, the learning rate, $S$, the number of datapoints in the minibatch and $\\gamma$, the regularisation parameter.\n",
    "\n",
    "* In this question we will use the validation data. So before proceeding to the next steps, make sure that you:  replace the missing values on each feature variables with the mean value you computed with the training data; standardise the validation data using the means and standard deviations computed from the training data (**1 mark**).\n",
    "    \n",
    "* Create a grid of values for the parameters $\\gamma$ and $\\eta$ using `np.logspace` and a grid of values for $S$ using `np.linspace`. Because you need to find three parameters, start with five values for each parameter in the grid and see if you can increase it. Make sure you understand what is the meaning of `np.logspace` and `np.linspace`. Notice that you can use negative values for `start` in `np.logspace` (**1 mark**).\n",
    "\n",
    "* For each value that you have of $\\gamma$, $\\eta$ and $S$ from the previous step, use the training set to compute $\\mathbf{w}$ using minibatch gradient descent and then measure the RMSE over the validation data. For the validation data, make sure you preprocess it before applying the prediction model over it. For the minibatch gradient descent choose to stop the iterative procedure after $200$ iterations (**1 mark**).\n",
    "\n",
    "* Choose the values of $\\gamma$, $\\eta$ and $S$ that lead to the lowest RMSE and save them. You will use them at the test stage.\n",
    "\n",
    "#### Question 1.b Answer"
   ]
  },
  {
   "cell_type": "code",
   "execution_count": 14,
   "metadata": {},
   "outputs": [],
   "source": [
    "# Standardise the validation data \n",
    "data_val = Standardise(data_val_unproc)"
   ]
  },
  {
   "cell_type": "code",
   "execution_count": 15,
   "metadata": {},
   "outputs": [
    {
     "name": "stdout",
     "output_type": "stream",
     "text": [
      "[0.1, 5.623413251903491e-06, 100.0] 4.4136339015184545\n"
     ]
    }
   ],
   "source": [
    "# Create a grid of values for the parameters 𝛾, 𝜂 and S\n",
    "list_learning_rate = np.logspace(-3, -1, 5)\n",
    "list_regul_parameter = np.logspace(-6, -3, 5)\n",
    "list_mini_size = np.linspace(100, 500, 5)\n",
    "\n",
    "# Split the validation data\n",
    "yVal = np.array(data_val.iloc[:, 0].values).reshape(-1,1)\n",
    "XVal = np.hstack((np.ones(shape=[1151, 1]), np.array(data_val.iloc[:, 1:].values).reshape(-1,11)))\n",
    "list_parameter = np.zeros(3)        # to save parameters\n",
    "\n",
    "min_error_mod = 10000\n",
    "for i in list_learning_rate:\n",
    "    for j in list_regul_parameter:\n",
    "        for k in list_mini_size:\n",
    "            w = np.ones(shape=(12, 1))\n",
    "            for cnt in range(200):\n",
    "                k_batch = np.random.randint(0, 5372, int(k))\n",
    "                X = XTrain[k_batch, :]\n",
    "                y = yTrain[k_batch]\n",
    "                w = (1 - i * j) * w + (2 * i / k * np.dot((y - np.dot(X, w)).T, X)).T    # calculate w by minibatch gradient descent\n",
    "            fVal = np.dot(XVal, w)\n",
    "            error_mod = np.sqrt(np.mean((yVal - fVal)**2)) # calculate the RMSE\n",
    "            if error_mod < min_error_mod:    \n",
    "                min_error_mod = error_mod                  # find the lowest RMSE\n",
    "                list_parameter = [i, j, k]                 # save the parameters that lead to lowest RMSE\n",
    "\n",
    "# Save the best parameters     \n",
    "learning_rate = list_parameter[0]\n",
    "regul_parameter = list_parameter[1]\n",
    "mini_size = list_parameter[2]    \n",
    "print(list_parameter, min_error_mod)"
   ]
  },
  {
   "cell_type": "markdown",
   "metadata": {},
   "source": [
    "## 1.5 Test stage \n",
    "\n",
    "We now know which one is the best model, according to the validation data. We will now put together the training data and the validation data, perform the preprocessing as we did before, this is, treat the missing values and standardise the inputs. We will train the model again using the minibatch stochastic gradient descent and finally compute the RMSE over the test data.\n",
    "\n",
    "\n",
    "### Question 1.c: combine the original training and original validation data and perform the preprocessing again to this new data (2 marks)\n",
    "\n",
    "Put together the original training and validation dataset and perform the same preprocessing steps than before, these are: \n",
    "\n",
    "* for each feature, impute the missing values with the mean values of the non-missing values (**1 mark**) \n",
    "\n",
    "* stardardise the new training set (**1 mark**).\n",
    "\n",
    "#### Question 1.c Answer"
   ]
  },
  {
   "cell_type": "code",
   "execution_count": 16,
   "metadata": {},
   "outputs": [],
   "source": [
    "data_new_training_unproc = pd.concat([data_training_unproc, data_val_unproc], axis = 0)  # Combine the training data and validation data\n",
    "data_new_training_unproc = Impute(data_new_training_unproc)\n",
    "data_new_training = Standardise(data_new_training_unproc)"
   ]
  },
  {
   "cell_type": "markdown",
   "metadata": {},
   "source": [
    "### Question 1.d: Preprocess the test data, train the model and predict over the test data (3 marks)\n",
    "\n",
    "Preprocess the test data and train a new model using the new training set. Finally, report the RMSE over the test set:\n",
    "\n",
    "* Preprocess the test data by imputing the missing data and standardising it (**1 mark**). \n",
    "\n",
    "* Use the best values of $\\gamma$, $\\eta$ and $S$ found in the validation set and train a new regularised linear model with stochastic gradient descent (**1 mark**).\n",
    "\n",
    "* Report the RMSE over the test data (**1 mark**).\n",
    "\n",
    "#### Question 1.d Answer"
   ]
  },
  {
   "cell_type": "code",
   "execution_count": 17,
   "metadata": {},
   "outputs": [],
   "source": [
    "# Imputing the missing data and standardising\n",
    "data_test_unproc = Impute(data_test_unproc)\n",
    "data_test = Standardise(data_test_unproc)"
   ]
  },
  {
   "cell_type": "code",
   "execution_count": 18,
   "metadata": {},
   "outputs": [
    {
     "name": "stdout",
     "output_type": "stream",
     "text": [
      "0.4943423409579867\n"
     ]
    }
   ],
   "source": [
    "yTest = np.array(data_test.iloc[:, 0].values).reshape(-1,1)\n",
    "XTest = np.hstack((np.ones(shape=[1151, 1]), np.array(data_test.iloc[:, 1:].values).reshape(-1,11)))\n",
    "\n",
    "w = np.ones(shape=(12, 1))\n",
    "for cnt in range(200):\n",
    "    k_batch = np.random.randint(0, 5372, int(mini_size))\n",
    "    X = XTrain[k_batch, :]\n",
    "    y = yTrain[k_batch]\n",
    "    w = (1 - learning_rate * regul_parameter) * w + (2 * learning_rate / mini_size * np.dot((y - np.dot(X, w)).T, X)).T\n",
    "    fTest = np.dot(XTest, w)\n",
    "    error_mod = np.sqrt(np.mean((yTest - fTest)**2)) # calculate the RMSE\n",
    "    if error_mod < min_error_mod:    \n",
    "        min_error_mod = error_mod                  # find the lowest RMSE\n",
    "\n",
    "print(min_error_mod)"
   ]
  },
  {
   "cell_type": "markdown",
   "metadata": {},
   "source": [
    "# 2. Random forests (13 marks)\n",
    "\n",
    "**USE scikit-learn for the questions on this section.**\n",
    "\n",
    "In section 1, you used a regularised ridge regression model trained with SGD to create a linear predictive model. In this part of the assignment, you will use **scikit-learn** to train a random forest for regression over the air quality dataset.\n",
    "\n",
    "## 2.1 Preprocessing the data\n",
    "\n",
    "As mentioned before, the dataset has missing values tagged with a -200 value. Before doing any work with the training data, we want to make sure that we deal properly with the missing values. Furthermore, once we have dealt with the missing values, we want to standardise the training data. \n",
    "\n",
    "### Question 2.a: Pipeline for missing values and standardisation (3 marks)\n",
    "\n",
    "* Employ the `SimpleImputer` method in Scikit-learn to impute the missing values in each column using the mean value of the non-missing values, instead (**1 mark**).\n",
    "\n",
    "* Standardise the data by substracting the mean value for each feature and dividing the result by the standard deviation of each feature. Employ the `StandardScaler` method (**1 mark**).\n",
    "\n",
    "* Create a `Pipeline` that you can use to preprocess the data by filling missing values and then standardising the features (**1 mark**).\n",
    "\n",
    "#### Question 2.a Answer"
   ]
  },
  {
   "cell_type": "code",
   "execution_count": 23,
   "metadata": {},
   "outputs": [],
   "source": [
    "from sklearn.impute import SimpleImputer\n",
    "from sklearn.preprocessing import StandardScaler\n",
    "from sklearn.pipeline import Pipeline\n",
    "\n",
    "# Impute the missing values\n",
    "imp_mean = SimpleImputer(missing_values = -200, strategy = 'mean')\n",
    "# Standardise the data\n",
    "scaler = StandardScaler()\n",
    "\n",
    "estimators = [('imp_mean', SimpleImputer(missing_values = -200, strategy = 'mean')), ('scaler', StandardScaler())]\n",
    "pipe = Pipeline(estimators)"
   ]
  },
  {
   "cell_type": "markdown",
   "metadata": {},
   "source": [
    "### Question 2.b: Use the Pipeline to fit the training data and transform the validation data (2 marks)\n",
    "\n",
    "In the previous question, you created a `Pipeline` for applying a `SimpleImputer` and a `StandardScaler`. Use the Pipeline to fit the training data (**1 mark**) and transform the validation data (**1 mark**).\n",
    "\n",
    "#### Question 2.b Answer"
   ]
  },
  {
   "cell_type": "code",
   "execution_count": 24,
   "metadata": {},
   "outputs": [],
   "source": [
    "from sklearn.model_selection import train_test_split\n",
    "\n",
    "for col in ['CO(GT)', 'PT08.S1(CO)', 'C6H6(GT)', 'PT08.S2(NMHC)', 'NOx(GT)', 'PT08.S3(NOx)', 'NO2(GT)', 'PT08.S4(NO2)', 'PT08.S5(O3)', 'T', 'RH', 'AH']:\n",
    "    data_training_unproc[col] = data_training_unproc[col].astype('float64')\n",
    "    \n",
    "Train_Q2_unproc, Val_Q2_unproc = train_test_split(data_training_unproc, test_size=0.15, random_state=42)\n",
    "XTrain_Q2_unproc = Train_Q2_unproc.drop('CO(GT)', axis=1)\n",
    "yTrain_Q2 = Train_Q2_unproc['CO(GT)']\n",
    "XVal_Q2_unproc = Val_Q2_unproc.drop('CO(GT)', axis=1)\n",
    "yVal_Q2 = Val_Q2_unproc['CO(GT)']\n",
    "\n",
    "XTrain_Q2 = pipe.fit_transform(XTrain_Q2_unproc)\n",
    "XVal_Q2 = pipe.transform(XVal_Q2_unproc)"
   ]
  },
  {
   "cell_type": "markdown",
   "metadata": {},
   "source": [
    "## 2.2 Random forest to predict air quality \n",
    "\n",
    "We now use random forests to predict air quality. Remember that the tree ensemble in random forests is built by training individual regression trees on different subsets of the training data and using a subset of the available features. For regression, the prediction is the average of the individual predictions of each tree. Some of the parameters required in the Random Forest implementation in Scikit-learn include:\n",
    "\n",
    "Some of the additional parameters required in the Random Forest implementation in Scikit-learn include\n",
    "\n",
    "> **n_estimators** the total number of trees to train<p>\n",
    "**max_features** number of features to use as candidates for splitting at each tree node. <p>\n",
    "    **boostrap**: Whether bootstrap samples are used when building trees. If False, the whole dataset is used to build each tree.<p>\n",
    "   **max_samples**: If bootstrap is True, the number of samples to draw from X to train each base estimator."
   ]
  },
  {
   "cell_type": "markdown",
   "metadata": {},
   "source": [
    "### Question 2.c: train a random forest (4 marks)\n",
    "\n",
    "In this question, you will train a random forest for predicting over the validation data. Use cross-validation over the validation data to select the best set of paramaters for the random forest regressor. Parameters to include in your exploration are **n_estimators**, **max_features** and **max_samples**. Use `np.linspace` or `np.logspace` to define ranges of values to explore for each parameter and create a grid to be assessed over the validation data. Make sure you use the same validation data that was given to you.\n",
    "\n",
    "* Use `PredefinedSplit` to tell the cross validator which instances to use for training and which ones for validation (**1 mark**).\n",
    "\n",
    "* Create a grid of values to explore that include a range of at least five values for each parameter **n_estimators**, **max_features** and **max_samples** (**1 mark**). \n",
    "\n",
    "* Train a random forest for regression model that uses the grid of parameters you created before. Use `GridSearchCV` to find the best set of parameters by performing cross-validation over the predefined split. (**1 mark**).\n",
    "\n",
    "* Print the best values in your grid for **n_estimators**, **max_features** and **max_samples** (**1 mark**).\n",
    "\n",
    "#### Question 2.c Answer"
   ]
  },
  {
   "cell_type": "code",
   "execution_count": 25,
   "metadata": {},
   "outputs": [
    {
     "data": {
      "text/plain": [
       "{'max_features': 0.7, 'max_samples': 0.25, 'n_estimators': 100}"
      ]
     },
     "execution_count": 25,
     "metadata": {},
     "output_type": "execute_result"
    }
   ],
   "source": [
    "# Write your code here\n",
    "from sklearn.model_selection import PredefinedSplit\n",
    "from sklearn.model_selection import GridSearchCV\n",
    "from sklearn.ensemble import RandomForestClassifier\n",
    "\n",
    "# Split trainging data\n",
    "test_fold = np.zeros((np.shape(data_training_unproc)[0], 1))\n",
    "test_fold[0:np.shape(Train_Q2_unproc)[0]] = -1\n",
    "ps = PredefinedSplit(test_fold)\n",
    "\n",
    "# Combine training data and validation data\n",
    "whole_XTrain_set = np.vstack((XTrain_Q2 , XVal_Q2))\n",
    "whole_yTrain_set = np.hstack((yTrain_Q2, yVal_Q2))\n",
    "\n",
    "# Set grid for parameters\n",
    "n_estimators_opts = np.logspace(1, 3, 5).astype(int)\n",
    "max_features_opts = np.linspace(0.5, 0.7, 5)\n",
    "max_samples_opts = np.linspace(0.2, 0.3, 5)\n",
    "param_grid = dict(n_estimators = n_estimators_opts, max_features = max_features_opts, max_samples = max_samples_opts)\n",
    "\n",
    "# Looking for the best parameters\n",
    "grid_regression = GridSearchCV(RandomForestClassifier(), param_grid=param_grid, cv=ps, scoring='neg_mean_squared_error')\n",
    "grid_regression.fit(whole_XTrain_set, whole_yTrain_set.astype('int'))\n",
    "grid_regression.best_params_"
   ]
  },
  {
   "cell_type": "markdown",
   "metadata": {},
   "source": [
    "### Question 2.d: train a new model over the whole training data and report the prediction over the test set (4 marks)\n",
    "\n",
    "\n",
    "Now that we have identified the best paramaters of the regression model, we use these parameters to train a new model over the whole training data (`data_training` plus `data_val`). We apply this model to the test set and report the performance.\n",
    "\n",
    "* Create a new preprocessing pipeline for taking care of the missing values and standardisation over the whole training data (**1 mark**).\n",
    "\n",
    "* Apply the created preprocessing pipeline to the test data (**1 mark**).\n",
    "\n",
    "* Fit a random forest regression model to the training data using the best parameters found in Question 2.c (**1 mark**).\n",
    "\n",
    "* Compute the RMSE over the test data and report the result (**1 mark**).\n",
    "\n",
    "#### Question 2.d Answer"
   ]
  },
  {
   "cell_type": "code",
   "execution_count": 37,
   "metadata": {},
   "outputs": [
    {
     "data": {
      "text/plain": [
       "0.6692514329097705"
      ]
     },
     "execution_count": 37,
     "metadata": {},
     "output_type": "execute_result"
    }
   ],
   "source": [
    "from sklearn.metrics import mean_squared_error\n",
    "\n",
    "# Impute and standardise test data\n",
    "imp_mean2 = SimpleImputer(missing_values = -200, strategy = 'mean')\n",
    "scaler2 = StandardScaler()\n",
    "estimators2 = [('imp_mean2', SimpleImputer()), ('scaler2', StandardScaler())]\n",
    "pipe2 = Pipeline(estimators2)\n",
    "\n",
    "# Split the attributes and label in test data\n",
    "XTest_Q2_unproc = data_test_unproc.drop('CO(GT)', axis=1)\n",
    "yTest_Q2 = data_test_unproc['CO(GT)']\n",
    "XTest_Q2 = pipe.transform(XTest_Q2_unproc)\n",
    "\n",
    "# Calculate the RMSE by best parameters\n",
    "clf = RandomForestClassifier(n_estimators = grid_regression.best_params_[\"n_estimators\"], max_features = grid_regression.best_params_[\"max_features\"], max_samples = grid_regression.best_params_[\"max_samples\"])\n",
    "clf.fit(XTest_Q2, yTest_Q2.astype('int'))\n",
    "yTest_Q2_predictions = clf.predict(XTest_Q2)\n",
    "\n",
    "error_mod = np.sqrt(mean_squared_error(yTest_Q2, yTest_Q2_predictions))\n",
    "error_mod"
   ]
  },
  {
   "cell_type": "code",
   "execution_count": null,
   "metadata": {},
   "outputs": [],
   "source": []
  }
 ],
 "metadata": {
  "kernelspec": {
   "display_name": "Python 3",
   "language": "python",
   "name": "python3"
  },
  "language_info": {
   "codemirror_mode": {
    "name": "ipython",
    "version": 3
   },
   "file_extension": ".py",
   "mimetype": "text/x-python",
   "name": "python",
   "nbconvert_exporter": "python",
   "pygments_lexer": "ipython3",
   "version": "3.8.8"
  }
 },
 "nbformat": 4,
 "nbformat_minor": 4
}
